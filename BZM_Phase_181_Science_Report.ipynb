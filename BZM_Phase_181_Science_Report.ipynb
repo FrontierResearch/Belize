{
 "cells": [
  {
   "cell_type": "markdown",
   "metadata": {
    "slideshow": {
     "slide_type": "slide"
    }
   },
   "source": [
    "![Frontier](https://image.ibb.co/h5YmBx/frontier_Logo.jpg)\n",
    "# <center>BELIZE MARINE CONSERVATION AND DIVING PROGRAMME <a class=\"tocSkip\"></a>\n",
    "![Frontier](https://image.ibb.co/kBubBx/coveriamge.jpg)\n",
    "## <center>Caye Caulker, Belize <a class=\"tocSkip\"></a>\n",
    "## <center>BZM Phase 181 Science Report <a class=\"tocSkip\"></a>\n",
    "### <center>December 2017-March 2018 <a class=\"tocSkip\"></a>\n",
    "### <center>Dagny-Elise Anastassiou, Doryan Givel, Katie Bozza Smith and David Best <a class=\"tocSkip\"></a>"
   ]
  },
  {
   "cell_type": "markdown",
   "metadata": {
    "slideshow": {
     "slide_type": "slide"
    }
   },
   "source": [
    "# Staff Members\n",
    "| Dagny-Elise Anastassiou (DEA) | Project Manager (PM) and Principal Investigator (PI) |\n",
    "|-------------------------------|------------------------------------------------------|\n",
    "| Doryan Givel (DG)             | Project Coordinator (PC)                             |\n",
    "| Katie Bozza Smith (KS)        | Assistant Research Officer (ARO)                     |\n",
    "| David Best (DB)               | Assistant Research Officer (ARO)                     |\n",
    "\n"
   ]
  },
  {
   "cell_type": "markdown",
   "metadata": {
    "slideshow": {
     "slide_type": "slide"
    }
   },
   "source": [
    "\n"
   ]
  },
  {
   "cell_type": "markdown",
   "metadata": {
    "slideshow": {
     "slide_type": "slide"
    }
   },
   "source": [
    "# Acknowledgements\n",
    "We would like to thank the Belize Fisheries Department (BFD) for the continued assistance throughout the project. We would also like to thank the Frontier Volunteer Research Assistants that took part in our BZM 181 projects. \n"
   ]
  },
  {
   "cell_type": "markdown",
   "metadata": {
    "slideshow": {
     "slide_type": "slide"
    }
   },
   "source": [
    "# Introduction\n",
    "## *Project Background and Location*\n",
    "\n",
    "Belize, formerly known as British Honduras, is a Central American country on the Eastern coast. Belize is bordered by Guatemala from the West and Mexico from the North with the Caribbean Sea to the East. The small mainland area is roughly 290 km long and 110 km wide. The Mesoamerican Reef is the largest barrier reef in the Northern Hemisphere and the second largest barrier reef in the world <cite data-cite=\"6052314/TV5PPUA7\"></cite>. Large areas of the barrier reef are protected by the Belize Barrier Reef Reserve System (BBRRS) and therefore it has been designated a world heritage site by UNESCO for the past 20 years. Included in the BBRRS are 7 marine reserves, 450 cayes and 3 of the 4 atolls present: Turneffe Atoll, Glover’s Reef Atoll and Lighthouse Reef Atoll (home to the Great Blue Hole dive site made famous by Jacques Cousteau) <cite data-cite=\"6052314/FKW6GWN7\"></cite>. The Belize Barrier Reef (BBR) is the largest single section of the Mesoamerican Barrier Reef System (MBRS) and extends 998 km from the tip of the Yucatan Peninsula to Honduras; making it the second largest barrier reef in the world.  The Frontier Belize Marine project (BZM) was established in April 2014 within the Caye Caulker Forest and Marine Reserve (Figure 1). CC is a small limestone island located approximately 20 miles North-Northeast of Belize City at 17°44’33N 88°1’30W.The Frontier Belize camp is located on the North island of Caye Caulker (CC) and hosts Marine Conservation, Diving and Beach Conservation volunteers. \n",
    "\n",
    "\n",
    "![Frontier Belize SMP Sites](https://image.ibb.co/ndUqOc/mapofsites.png)\n",
    "*<center>Figure 1. Map of Caye Caulker Island with Frontier’s Synoptic Monitoring Program (SMP) site locations indicated with coloured triangles.  (Red = General Use Zone (GUZ), Blue = Conservation Zone (CZ) and Yellow = Preservation Zone (PZ). Frontier Belize camp is also noted.</center>*\n",
    "\n",
    "The project aims to conduct long term monitoring of key habitats and species through the assistance of international volunteers and in collaboration with the Belize Fisheries Department (BFD). CC spans approximately 8 km from North to South and approximately 1.5 km East to West at its widest part. The island is separated by a narrow man-made waterway known as the ‘Split’ creating a North-South divide of the island. The majority of the island’s infrastructure is located on the smaller South Island which holds a population of approximately 1700 residents and many transient visitors <cite data-cite=\"6052314/FNAXNXHN\"></cite>. Many tourists visit the island due to the abundance of exotic flora and fauna, which provide excellent snorkelling, diving and nature trail opportunities. The island is particularly popular for backpackers due to its easy-going reputation, a result of the strong Creole presence and community of Rastafarians. \n",
    "\n",
    "Unfortunately, as with much of our natural world, the marine life around CC is under threat from anthropogenic activities such as climate change, overfishing, tourism and coastal development <cite data-cite=\"6052314/FNAXNXHN\"></cite>. CC provides a habitat for several endangered species such as the critically endangered staghorn (*Acropora cerviconis*) and elkhorn (*Acropora palmata*) corals as well as the hawksbill (*Eretmochelys imbricata*) green (*Chelonia mydas*) and loggerhead turtles (*Caretta caretta*).  Other threatened species found in the waters of CC include The West Indian Manatee (*Trichechus manatus*) and the common bottlenose dolphin (*Tursiops truncates*) <cite data-cite=\"6052314/KU2JJDRD\"></cite>.\n",
    "\n",
    "The coastal waters around CC provide rich fishery grounds for two of the most important commercial fisheries in Belize: the Caribbean spiny lobster (*Panulirus argus*) and the queen conch (*Strombus gigas*). Currently there is a strict management regime in place to regulate the fishing seasons for each species which includes catch size and gear restrictions <cite data-cite=\"6052314/FNAXNXHN\"></cite>. The goal for these regulations is to maintain healthy and sustainable populations within the area. Size (length and weight) is a useful parameter to control and manage overfishing of conch and lobster populations since the shell of the queen conch and the carapace of the spiny lobster allows for estimation of sexual maturity <cite data-cite=\"6052314/CRKPBX9Q\"></cite>.\n",
    "\n",
    "## *Caye Caulker Marine Reserve*  START HERE\n",
    "\n",
    "A large portion of the waters around CC are under marine spatial management. The Caye Caulker Marine Reserve (CCMR) is 11km long, extending to the Belize Barrier Reef from the Northern tip of CC. The CCMR was established in the early 1990s but did not become completely recognised as a marine reserve until 1998 at which point it was included alongside the Caye Caulker Forest Reserve (CCFR) as part of a single management unit. CCMR and CCFR encompass an area of 40 km² and 0.5 km² respectively (CZMAI, 2016). This unit was set up with the aim of ensuring protection of the littoral forest, reef lagoon, reef crest and fore reef areas<cite data-cite=\"6052314/M4K98CT9\"></cite>. \n",
    "\n",
    "CCMR encompasses five ecologically-related but distinct habitats: mangrove forest, littoral forests, lagoon marshlands, seagrass beds and coral reefs. The marine reserve is managed via three regulated zones. The General Use Zone (GUZ) comprises 25 km², the Conservation Zone (CZ) comprises 8.2 km² and the Preservation Zone (PZ) comprises 5.8 km² (BFD, 2007). Both the CZ and PZ are non-extractive, but the CZ allows recreational use which primarily consists of snorkelling and diving. The PZ does not allow boat traffic nor recreational use and is principally set aside for the recovery of overexploited populations of marine life. The GUZ permits licensed commercial and sport fishing alongside recreational use. Tourists are charged a park fee of 10 Belize dollars which helps subsidize management of the area, while locals may use the reserve for free. There are no charges to marine users outside of the reserve and these areas are not often monitored by the BFD.  Despite the fishery management practices that are in place, overfishing and illegal fishing are still major issues in CC and across Belize. As a result, many fishermen have reported that their catch per unit effort has decreased noticeably in recent years (CZMAI, 2016).\n",
    "\n",
    "The CCMR is critical to Belize’s economy as a source of tourism revenue (on which many livelihoods are entirely dependent) as well as a provider of vital ecosystem services, such as protection from storm damage and wave erosion (Belize Fisheries Department 2010).  There is little research into the sustainability and effectiveness of the reserve’s current management plan, however this information is essential for the stakeholders involved (Polunin, 1993). Management of the Belize Barrier Reef was originally envisioned through the creation of marine protected areas (MPAs), but the influence from land-based activities was not accounted for within these programs. As a result, the focus was shifted towards the previously described integrated, multi-sectoral approach currently used in Belize marine reserves (Cho, 2005). \n",
    "\n",
    "The research conducted by Frontier within the CCMR lies within the MBRS which is part of the Mesoamerican Barrier Reef Systems Project, a regional SMP. This program has a standardised manual of methods (MBRS, 2003) for monitoring changes in reef ecosystem health which Frontier has incorporated into its own methods for effective data collection by volunteer citizen scientists.   Surveys carried out as part of BZM include MBRS SMP surveys (fish, benthic, coral colony characterization and invertebrates) as well as conch, lobster, mangrove, seagrass and beach clean surveys. It is important to note that some surveys are seasonal and/or and volunteer dependent. \n",
    "\n",
    "## *Aims of the project*\n",
    "\n",
    "The aim of BZM is to conduct long term scientific monitoring of key habitats and species within the forest and marine reserve with the assistance of international volunteers and to report information on the health of the reef to our partner organisations.  The current project objectives are to:\n",
    "\n",
    "1.\tTo establish new fixed survey sites in addition to the sites suggested and already used by the BFD\n",
    "2.\tContinue to collect data on the health of the coral reef via the MBRS SMP methodology through benthic point intercept transect surveys, coral colony characterisation surveys and adult/juvenile reef fish surveys\n",
    "3.\tContinue to collect data on the abundance, sex ratios, maturity and size-frequency distributions of the commercially important Caribbean spiny lobster throughout the year and  supplement the biannual data collection conducted by the BFD\n",
    "4.\tReinstate and establish sites for data collection on the abundance, sex ratios and size-frequency distributions of the commercially important queen conch alongside the BFD \n",
    "5.\tContinue and improve seagrass surveys on species composition, percentage coverage, abundance and health across the four established survey sites\n",
    "6.\tReinstate the manatee monitoring project during manatee observation season\n",
    "7.\tContinue to build upon new connections with the local community, including local NGO Oceana and the local private school Ocean Academy\n",
    "\n",
    "## *Training* \n",
    "\n",
    "### Science training and volunteer briefings\n",
    "\n",
    "To achieve the above aims, all volunteers and staff members receive a combination of briefings, science presentations and lectures and practical field training (Table 1) before conducting any marine surveys. For all tests a 95% pass mark is required and in case of any failures, those individuals will have to re-sit a different version of the test. All marine conservation and diving volunteers are PADI scuba trained to at least Advanced Open Water level.\n",
    "\n",
    "*<center>Complete list of science lectures, field training lectures, briefings and staff member responsible for training. All training was conducted by DEA, DG, KS, DB</center>*\n",
    "\n",
    "| Lecture/ Presentation/ Test | Lecturer |\n",
    "|---------------------------------------------------------------|-----------|\n",
    "| Health and safety and medical presentations and tests | DG/ DEA |\n",
    "| Dangers of the reef presentation | DEA/DG |\n",
    "| Introductory science presentation for Frontier Belize Project | DEA |\n",
    "| Introduction to coral reefs presentation | DEA |\n",
    "| Benthic identification and survey methodology presentation | DEA |\n",
    "| Coral health presentation | DEA/DB/KS |\n",
    "| Coral flash, revision slides | DEA/DB/KS |\n",
    "| Benthic test | DEA/DB/KS |\n",
    "| In water, practical benthic test | DEA |\n",
    "| Fish identification presentation | DEA/DB/KS |\n",
    "| Fish flash, revision slides | DEA/DB/KS |\n",
    "| Fish families test | DEA/DB/KS |\n",
    "| Fish ID test | DEA/DB/KS |\n",
    "| Juveniles and recruits fish ID test | DEA/DB/KS |\n",
    "| In water, practical fish test | DEA |\n",
    "| Practice mock survey | DEA |\n",
    "| Queen conch presentation | KS |\n",
    "| Caribbean spiny lobster presentation | DB |\n",
    "| Seagrass presentation | DEA |\n",
    "\n",
    "## *Dive Training and BTEC*\n",
    "\n",
    "All diving volunteers receive training up to PADI Advanced Open Water. PADI dive training is currently outsourced to a local dive company on the South Island. This will continue until Frontier is able to offer this training ‘in-house’.\n",
    "\n",
    "No BTECs were conducted during this phase.\n",
    "\n"
   ]
  },
  {
   "cell_type": "markdown",
   "metadata": {},
   "source": [
    "# Research Projects\n",
    "\n",
    "## *SMP Coral Reef Diving Surveys*\n",
    "### Introduction\n",
    "\n",
    "Coral reefs are highly valuable and productive marine ecosystems. They provide essential habitats and feeding grounds for a diverse array of marine fauna such as fin-fish, elasmobranchs, turtles, sea-birds and numerous invertebrates. Coral reefs also provide an array of crucial ecosystem services such as fish production. Reefs also generate revenue through tourism and medicinal discoveries and are especially vital to human survival in developing countries\n"
   ]
  },
  {
   "cell_type": "markdown",
   "metadata": {
    "slideshow": {
     "slide_type": "slide"
    }
   },
   "source": [
    "## Example 1: Mapping Belize survey sites with NOAA bathymetry data\n",
    "\n",
    "The Frontier Belize Marine project (BZM) was established in April 2014 within the Caye Caulker Forest and Marine Reserve (Figure 1). The Frontier Belize camp is located on the North island of Caye Caulker (CC) and hosts marine and coastal conservation volunteers. CC is a small limestone island located approximately 20 miles North-Northeast of Belize City at 17°44’33N 88°1’30W. \n",
    "\n",
    "** *Table 1.** SMP sites monitored by Frontier. The list includes conservation zone status, coral reef type and UTM coordinates.*\n",
    "\n",
    "| Site_Name     | Site_Code | UTM_Zone | Easting | Northing | Long         | Lat         |\n",
    "|---------------|-----------|----------|---------|----------|--------------|-------------|\n",
    "| Corolitta     | PZC       | 16Q      | 391885  | 1967918  | -88.02006618 | 17.79607072 |\n",
    "| Lobe City     | LOB       | 16Q      | 392017  | 1906365  | -88.01572198 | 17.23978271 |\n",
    "| No-manns land | NML       | 16Q      | 392579  | 1906367  | -88.01043633 | 17.23982741 |\n",
    "| Tap tap fish  | TTF       | 16Q      | 393822  | 1966286  | -88.00171038 | 17.78141602 |\n",
    "| The Swash     | S         | 16Q      | 393927  | 1963507  | -88.00058017 | 17.75630596 |\n",
    "| CCC Fore      | CCCFore   | 16Q      | 394079  | 1957698  | -87.99885562 | 17.70381439 |\n",
    "| North Channel | NC        | 16Q      | 394424  | 1967918  | -87.99611337 | 17.79619413 |\n",
    "| Raggedy Ann   | RA        | 16Q      | 394419  | 1959791  | -87.99575407 | 17.72274621 |\n",
    "| Elkhorn Point | EP        | 16Q      | 394464  | 1968256  | -87.99575295 | 17.79925071 |\n",
    "| Island        | I         | 16Q      | 394839  | 1966980  | -87.99215143 | 17.78773687 |\n",
    "\n",
    "---\n"
   ]
  },
  {
   "cell_type": "markdown",
   "metadata": {
    "slideshow": {
     "slide_type": "slide"
    }
   },
   "source": [
    "\n"
   ]
  },
  {
   "cell_type": "code",
   "execution_count": 1,
   "metadata": {
    "slideshow": {
     "slide_type": "subslide"
    }
   },
   "outputs": [
    {
     "name": "stderr",
     "output_type": "stream",
     "text": [
      "Skipping install of 'marmap' from a github remote, the SHA1 (4b5a9845) has not changed since last install.\n",
      "  Use `force = TRUE` to force installation\n",
      "\n",
      "Attaching package: 'marmap'\n",
      "\n",
      "The following object is masked from 'package:grDevices':\n",
      "\n",
      "    as.raster\n",
      "\n"
     ]
    },
    {
     "name": "stdout",
     "output_type": "stream",
     "text": [
      "Querying NOAA database ...\n",
      "This may take seconds to minutes, depending on grid size\n",
      "Building bathy matrix ...\n",
      "Bathymetric data of class 'bathy', with 120 rows and 90 columns\n",
      "Latitudinal range: 17.01 to 18.49 (17.01 N to 18.49 N)\n",
      "Longitudinal range: -88.99 to -87.01 (88.99 W to 87.01 W)\n",
      "Cell size: 1 minute(s)\n",
      "\n",
      "Depth statistics:\n",
      "   Min. 1st Qu.  Median    Mean 3rd Qu.    Max. \n",
      "-4166.0 -1376.0    -2.0  -827.8    16.0   930.0 \n",
      "\n",
      "First 5 columns and rows of the bathymetric matrix:\n"
     ]
    },
    {
     "data": {
      "text/html": [
       "<table>\n",
       "<thead><tr><th></th><th scope=col>17.0083333333333</th><th scope=col>17.025</th><th scope=col>17.0416666666667</th><th scope=col>17.0583333333333</th><th scope=col>17.075</th></tr></thead>\n",
       "<tbody>\n",
       "\t<tr><th scope=row>-88.9916666666667</th><td>433</td><td>414</td><td>377</td><td>359</td><td>392</td></tr>\n",
       "\t<tr><th scope=row>-88.975</th><td>477</td><td>457</td><td>434</td><td>405</td><td>398</td></tr>\n",
       "\t<tr><th scope=row>-88.9583333333333</th><td>525</td><td>494</td><td>473</td><td>455</td><td>431</td></tr>\n",
       "\t<tr><th scope=row>-88.9416666666667</th><td>559</td><td>527</td><td>508</td><td>501</td><td>439</td></tr>\n",
       "\t<tr><th scope=row>-88.925</th><td>605</td><td>576</td><td>541</td><td>548</td><td>446</td></tr>\n",
       "</tbody>\n",
       "</table>\n"
      ],
      "text/latex": [
       "\\begin{tabular}{r|lllll}\n",
       "  & 17.0083333333333 & 17.025 & 17.0416666666667 & 17.0583333333333 & 17.075\\\\\n",
       "\\hline\n",
       "\t-88.9916666666667 & 433 & 414 & 377 & 359 & 392\\\\\n",
       "\t-88.975 & 477 & 457 & 434 & 405 & 398\\\\\n",
       "\t-88.9583333333333 & 525 & 494 & 473 & 455 & 431\\\\\n",
       "\t-88.9416666666667 & 559 & 527 & 508 & 501 & 439\\\\\n",
       "\t-88.925 & 605 & 576 & 541 & 548 & 446\\\\\n",
       "\\end{tabular}\n"
      ],
      "text/markdown": [
       "\n",
       "| <!--/--> | 17.0083333333333 | 17.025 | 17.0416666666667 | 17.0583333333333 | 17.075 | \n",
       "|---|---|---|---|---|\n",
       "| -88.9916666666667 | 433 | 414 | 377 | 359 | 392 | \n",
       "| -88.975 | 477 | 457 | 434 | 405 | 398 | \n",
       "| -88.9583333333333 | 525 | 494 | 473 | 455 | 431 | \n",
       "| -88.9416666666667 | 559 | 527 | 508 | 501 | 439 | \n",
       "| -88.925 | 605 | 576 | 541 | 548 | 446 | \n",
       "\n",
       "\n"
      ],
      "text/plain": [
       "                  17.0083333333333 17.025 17.0416666666667 17.0583333333333\n",
       "-88.9916666666667 433              414    377              359             \n",
       "-88.975           477              457    434              405             \n",
       "-88.9583333333333 525              494    473              455             \n",
       "-88.9416666666667 559              527    508              501             \n",
       "-88.925           605              576    541              548             \n",
       "                  17.075\n",
       "-88.9916666666667 392   \n",
       "-88.975           398   \n",
       "-88.9583333333333 431   \n",
       "-88.9416666666667 439   \n",
       "-88.925           446   "
      ]
     },
     "metadata": {},
     "output_type": "display_data"
    }
   ],
   "source": [
    "#loading the relevant mapping libraries\n",
    "library(devtools)\n",
    "install_github(\"ericpante/marmap\")\n",
    "library(marmap)\n",
    "library(ggplot2)\n",
    "\n",
    "#reading the data represented in Table 1\n",
    "Coordinates <- read.csv(\"Coordinates.csv\", header = TRUE)\n",
    "\n",
    "#defining a zone that encompasses all of the sites and assigning it to the CCMR_map variable\n",
    "CCMR_map <-getNOAA.bathy(lon1 = -87, lon2 = -89, lat1 = 17, lat2 = 18.5, resolution = 1)\n",
    "\n",
    "#creating a map of the zone and assigning it to the CCMR_plot variable (so the graph can be manipulated later)\n",
    "CCMR_plot <- autoplot(CCMR_map, geom=c(\"r\",\"c\")) + scale_fill_etopo()\n",
    "\n",
    "#adding the coordinates to the map\n",
    "CCMR_plot <- CCMR_plot + geom_point(aes(x = Coordinates$Long, y = Coordinates$Lat), data = Coordinates, color ='#ffffff',size=2)\n",
    "\n",
    "#printing a summary of the area\n",
    "summary(CCMR_map)\n"
   ]
  },
  {
   "cell_type": "markdown",
   "metadata": {},
   "source": [
    "---"
   ]
  },
  {
   "cell_type": "code",
   "execution_count": 2,
   "metadata": {
    "slideshow": {
     "slide_type": "subslide"
    }
   },
   "outputs": [
    {
     "data": {},
     "metadata": {},
     "output_type": "display_data"
    },
    {
     "data": {
      "image/png": "[encoded data removed]",
      "text/plain": [
       "plot without title"
      ]
     },
     "metadata": {},
     "output_type": "display_data"
    }
   ],
   "source": [
    "#printing map\n",
    "CCMR_plot +\n",
    "    xlab(\"Latitude\") + ylab(\"Longitude\")\n",
    "\n",
    "#adding labels to the map- this is unfinished. in future we can expand the code below to add conservation zones or other data \n",
    "#CCMR_plot + geom_text(x = Coordinates$Long, y =Coordinates$Lat, data= Coordinates, label=Coordinates$Site_Code, alpha=1)"
   ]
  },
  {
   "cell_type": "markdown",
   "metadata": {},
   "source": [
    "*Figure 1. Map of Frontier survey sites in Caye Caulker, Belize showing NOAA bathymetry data*"
   ]
  },
  {
   "cell_type": "markdown",
   "metadata": {
    "slideshow": {
     "slide_type": "slide"
    }
   },
   "source": [
    "## Example 2: Seagrass and fish composition in Tanzania\n",
    "\n",
    "There were 5 different species of seagrass identified in our surveys; *Cymodecea serrulata* (CS), *Enhalus acoroides* (EA), *Syringodium isoetofolium* (SI), *Thassalia hempricii* (TH), and *Halodule uninervis* (HI).  Either *C. serrulata* or *E. acoroides* were the primarily dominant species in 28 out of the 39 transects.  Unique fish species per transect ranged from 1 to 18, with at least 1 species of fish observed in each survey.  Seagrass coverage and the related fish abundance and fish species diversity are plotted in Figure 1. The highest values for both fish abundance (205 individuals) and fish diversity (18 species) were found in Transect 14, which was dominated by *S. isoetofolium.*"
   ]
  },
  {
   "cell_type": "code",
   "execution_count": 3,
   "metadata": {
    "slideshow": {
     "slide_type": "subslide"
    }
   },
   "outputs": [
    {
     "data": {
      "text/html": [
       "<table>\n",
       "<thead><tr><th scope=col>Transect</th><th scope=col>Dominant_species</th><th scope=col>Pcnt_seagrass</th><th scope=col>Pcnt_EA</th><th scope=col>Pcnt_SI</th><th scope=col>Pcnt_TH</th><th scope=col>Pcnt_HU</th><th scope=col>Pcnt_CS</th><th scope=col>Pcnt_TC</th><th scope=col>Fish_species</th><th scope=col>Fish_abundance</th><th scope=col>Invert_species</th><th scope=col>Invert_abundance</th></tr></thead>\n",
       "<tbody>\n",
       "\t<tr><td>25  </td><td>CS  </td><td>83.0</td><td>  0 </td><td> 0  </td><td>194 </td><td>10  </td><td>221 </td><td>0   </td><td> 3  </td><td>14  </td><td>2   </td><td> 2  </td></tr>\n",
       "\t<tr><td>26  </td><td>CS  </td><td>72.0</td><td>  0 </td><td>15  </td><td>  0 </td><td> 5  </td><td>340 </td><td>0   </td><td> 5  </td><td>42  </td><td>4   </td><td> 5  </td></tr>\n",
       "\t<tr><td>24  </td><td>CS  </td><td>67.0</td><td>  0 </td><td> 0  </td><td> 70 </td><td>75  </td><td>190 </td><td>0   </td><td> 7  </td><td> 8  </td><td>2   </td><td> 2  </td></tr>\n",
       "\t<tr><td> 8  </td><td>CS  </td><td>65.0</td><td>115 </td><td> 0  </td><td>  0 </td><td> 0  </td><td>210 </td><td>0   </td><td> 9  </td><td>19  </td><td>2   </td><td> 4  </td></tr>\n",
       "\t<tr><td>34  </td><td>CS  </td><td>60.0</td><td> 30 </td><td>75  </td><td>  0 </td><td>70  </td><td>125 </td><td>0   </td><td> 4  </td><td>13  </td><td>1   </td><td> 3  </td></tr>\n",
       "\t<tr><td>37  </td><td>CS  </td><td>51.4</td><td> 65 </td><td>85  </td><td>  0 </td><td>12  </td><td> 95 </td><td>0   </td><td> 5  </td><td>15  </td><td>7   </td><td>19  </td></tr>\n",
       "\t<tr><td>35  </td><td>CS  </td><td>50.0</td><td>105 </td><td> 0  </td><td>  0 </td><td> 0  </td><td>145 </td><td>0   </td><td>10  </td><td>39  </td><td>4   </td><td> 4  </td></tr>\n",
       "\t<tr><td>41  </td><td>CS  </td><td>50.0</td><td> 65 </td><td>45  </td><td>  0 </td><td> 0  </td><td>140 </td><td>0   </td><td> 5  </td><td>19  </td><td>4   </td><td> 7  </td></tr>\n",
       "\t<tr><td>23  </td><td>CS  </td><td>47.0</td><td>  0 </td><td> 5  </td><td>  0 </td><td> 0  </td><td> 70 </td><td>0   </td><td> 4  </td><td>73  </td><td>5   </td><td>13  </td></tr>\n",
       "\t<tr><td>40  </td><td>CS  </td><td>41.0</td><td> 50 </td><td> 0  </td><td>  0 </td><td> 0  </td><td>155 </td><td>0   </td><td> 9  </td><td>85  </td><td>3   </td><td>10  </td></tr>\n",
       "</tbody>\n",
       "</table>\n"
      ],
      "text/latex": [
       "\\begin{tabular}{r|lllllllllllll}\n",
       " Transect & Dominant\\_species & Pcnt\\_seagrass & Pcnt\\_EA & Pcnt\\_SI & Pcnt\\_TH & Pcnt\\_HU & Pcnt\\_CS & Pcnt\\_TC & Fish\\_species & Fish\\_abundance & Invert\\_species & Invert\\_abundance\\\\\n",
       "\\hline\n",
       "\t 25   & CS   & 83.0 &   0  &  0   & 194  & 10   & 221  & 0    &  3   & 14   & 2    &  2  \\\\\n",
       "\t 26   & CS   & 72.0 &   0  & 15   &   0  &  5   & 340  & 0    &  5   & 42   & 4    &  5  \\\\\n",
       "\t 24   & CS   & 67.0 &   0  &  0   &  70  & 75   & 190  & 0    &  7   &  8   & 2    &  2  \\\\\n",
       "\t  8   & CS   & 65.0 & 115  &  0   &   0  &  0   & 210  & 0    &  9   & 19   & 2    &  4  \\\\\n",
       "\t 34   & CS   & 60.0 &  30  & 75   &   0  & 70   & 125  & 0    &  4   & 13   & 1    &  3  \\\\\n",
       "\t 37   & CS   & 51.4 &  65  & 85   &   0  & 12   &  95  & 0    &  5   & 15   & 7    & 19  \\\\\n",
       "\t 35   & CS   & 50.0 & 105  &  0   &   0  &  0   & 145  & 0    & 10   & 39   & 4    &  4  \\\\\n",
       "\t 41   & CS   & 50.0 &  65  & 45   &   0  &  0   & 140  & 0    &  5   & 19   & 4    &  7  \\\\\n",
       "\t 23   & CS   & 47.0 &   0  &  5   &   0  &  0   &  70  & 0    &  4   & 73   & 5    & 13  \\\\\n",
       "\t 40   & CS   & 41.0 &  50  &  0   &   0  &  0   & 155  & 0    &  9   & 85   & 3    & 10  \\\\\n",
       "\\end{tabular}\n"
      ],
      "text/markdown": [
       "\n",
       "Transect | Dominant_species | Pcnt_seagrass | Pcnt_EA | Pcnt_SI | Pcnt_TH | Pcnt_HU | Pcnt_CS | Pcnt_TC | Fish_species | Fish_abundance | Invert_species | Invert_abundance | \n",
       "|---|---|---|---|---|---|---|---|---|---|\n",
       "| 25   | CS   | 83.0 |   0  |  0   | 194  | 10   | 221  | 0    |  3   | 14   | 2    |  2   | \n",
       "| 26   | CS   | 72.0 |   0  | 15   |   0  |  5   | 340  | 0    |  5   | 42   | 4    |  5   | \n",
       "| 24   | CS   | 67.0 |   0  |  0   |  70  | 75   | 190  | 0    |  7   |  8   | 2    |  2   | \n",
       "|  8   | CS   | 65.0 | 115  |  0   |   0  |  0   | 210  | 0    |  9   | 19   | 2    |  4   | \n",
       "| 34   | CS   | 60.0 |  30  | 75   |   0  | 70   | 125  | 0    |  4   | 13   | 1    |  3   | \n",
       "| 37   | CS   | 51.4 |  65  | 85   |   0  | 12   |  95  | 0    |  5   | 15   | 7    | 19   | \n",
       "| 35   | CS   | 50.0 | 105  |  0   |   0  |  0   | 145  | 0    | 10   | 39   | 4    |  4   | \n",
       "| 41   | CS   | 50.0 |  65  | 45   |   0  |  0   | 140  | 0    |  5   | 19   | 4    |  7   | \n",
       "| 23   | CS   | 47.0 |   0  |  5   |   0  |  0   |  70  | 0    |  4   | 73   | 5    | 13   | \n",
       "| 40   | CS   | 41.0 |  50  |  0   |   0  |  0   | 155  | 0    |  9   | 85   | 3    | 10   | \n",
       "\n",
       "\n"
      ],
      "text/plain": [
       "   Transect Dominant_species Pcnt_seagrass Pcnt_EA Pcnt_SI Pcnt_TH Pcnt_HU\n",
       "1  25       CS               83.0            0      0      194     10     \n",
       "2  26       CS               72.0            0     15        0      5     \n",
       "3  24       CS               67.0            0      0       70     75     \n",
       "4   8       CS               65.0          115      0        0      0     \n",
       "5  34       CS               60.0           30     75        0     70     \n",
       "6  37       CS               51.4           65     85        0     12     \n",
       "7  35       CS               50.0          105      0        0      0     \n",
       "8  41       CS               50.0           65     45        0      0     \n",
       "9  23       CS               47.0            0      5        0      0     \n",
       "10 40       CS               41.0           50      0        0      0     \n",
       "   Pcnt_CS Pcnt_TC Fish_species Fish_abundance Invert_species Invert_abundance\n",
       "1  221     0        3           14             2               2              \n",
       "2  340     0        5           42             4               5              \n",
       "3  190     0        7            8             2               2              \n",
       "4  210     0        9           19             2               4              \n",
       "5  125     0        4           13             1               3              \n",
       "6   95     0        5           15             7              19              \n",
       "7  145     0       10           39             4               4              \n",
       "8  140     0        5           19             4               7              \n",
       "9   70     0        4           73             5              13              \n",
       "10 155     0        9           85             3              10              "
      ]
     },
     "metadata": {},
     "output_type": "display_data"
    },
    {
     "data": {},
     "metadata": {},
     "output_type": "display_data"
    },
    {
     "data": {
      "image/png": "[encoded data removed]",
      "text/plain": [
       "plot without title"
      ]
     },
     "metadata": {},
     "output_type": "display_data"
    }
   ],
   "source": [
    "#loading the plotting library\n",
    "library(ggplot2)\n",
    "\n",
    "#reading the data (data can also be linked to the internet so collaborators know they are always working off the same set)\n",
    "Seagrass <- read.csv(\"seagrass_data.csv\", header = TRUE)\n",
    "\n",
    "#showing the first few rows of seagrasss data\n",
    "head(Seagrass, n=10)\n",
    "\n",
    "#creating a bubble plot of seagrass coverage and fish abundance and assigning it to a variable which can be easily modififed\n",
    "#plot also highlights which seagrass species support the most fish diversity using bubble size and bubble colour\n",
    "Fish_seagrass_plot <- ggplot(Seagrass, aes(x=Seagrass$Pcnt_seagrass, y=Seagrass$Fish_abundance)) +\n",
    "    geom_point(aes(col=Seagrass$Dominant_species, size=Seagrass$Fish_species))+\n",
    "    xlab(\"Total percent seagrass coverage\") + ylab(\"Fish abundance\") +\n",
    "    labs(size=\"Fish diversity\", col=\"Dominant seagrass\") + \n",
    "    scale_size_continuous(breaks=c(0,1,6,12,18))\n",
    "\n",
    "Fish_seagrass_plot"
   ]
  },
  {
   "cell_type": "markdown",
   "metadata": {},
   "source": [
    "*Figure 2. Plot of seagrass coverage, fish abundance and fish species diversity from snorkel surveys*"
   ]
  },
  {
   "cell_type": "markdown",
   "metadata": {
    "slideshow": {
     "slide_type": "slide"
    }
   },
   "source": [
    "## Example 3: Manatee photo database in Belize\n",
    "\n",
    "This manatee photo database is the first to be created of the population around Caye Caulker. The database provides photos and descriptions of 12 manatees. The database will be used for the next manatee season to understand their movement patterns and determine which manatees return to CC every year. "
   ]
  },
  {
   "cell_type": "markdown",
   "metadata": {
    "slideshow": {
     "slide_type": "subslide"
    }
   },
   "source": [
    "### Charlie\n",
    "Charlie is approximately 3 metres long with a visible scar roughly 20-30cm in length above the left fin. He has a cut around halfway up the left-hand side of the tail. On the last observation, Charlie was curious and happy to swim while people snorkelled with him and circled back to the snorkelers several times in curiosity. These images were taken in July, 2017.\n",
    "\n",
    "| [![Charlie1](https://preview.ibb.co/jnf1gc/charlie1.png)]()  | [![Charlie2](https://image.ibb.co/hDJ9Zx/charlie2.jpg)]() | [![Charlie3](https://preview.ibb.co/dsV1gc/charlie3.png)]() |\n",
    "|:---:|:---:|:---:|\n",
    "| Image1: Charlie, side view | Image2: Charlie, front view | Image3: Charlie, side view |\n"
   ]
  },
  {
   "cell_type": "markdown",
   "metadata": {
    "slideshow": {
     "slide_type": "subslide"
    }
   },
   "source": [
    "### Mr. Mole\n",
    "Mr. Mole has a smooth body with very distinctive cuts on his tail from a boat collision, which makes a frilled pattern. Mr. Mole is not afraid of snorkelers and has been commonly photographed in tourist/tour photos dating back to 2009.  He is seen regularly by volunteers; often in the North Channel. Mr. Mole is a confirmed to be male.\n",
    "\n",
    "| [![Mole1](https://image.ibb.co/hsT9Zx/mole1.jpg)]()  | [![Mole2](https://preview.ibb.co/hkWUZx/mole2.jpg)]() | [![Mole3](https://image.ibb.co/gsH3ux/mole3.jpg)]() |\n",
    "|:---:|:---:|:---:|\n",
    "| Image4: Mr. Mole, tail view | Image5: Mr. Mole, side view | Image6: Mr. Mole, side view |"
   ]
  },
  {
   "cell_type": "markdown",
   "metadata": {
    "slideshow": {
     "slide_type": "slide"
    }
   },
   "source": [
    "## What are the next steps?\n",
    "\n",
    "1. Trial a notebook report collaboraton with 1 project and HQ to investigate the feasibility of using this in the field\n",
    "2. Start standardising Frontier's field data format for reporting and R\n",
    "3. Create notebooks for each field project\n",
    "4. Develop a process around quarterly collaborative reporting\n",
    "5. Create and deploy training materials (most of it will be in the notebooks themselves) \n",
    "6. Decide on the appropriate method for publishing to the public \n",
    "    (i.e. - make code/data public or not?, create interactive webpages, continue with PDFs, etc.)\n",
    "\n",
    "\n",
    "\n",
    "\n"
   ]
  },
  {
   "cell_type": "markdown",
   "metadata": {},
   "source": [
    "# References\n",
    "<div class=\"cite2c-biblio\"></div>"
   ]
  },
  {
   "cell_type": "code",
   "execution_count": null,
   "metadata": {},
   "outputs": [],
   "source": []
  }
 ],
 "metadata": {
  "cite2c": {
   "citations": {
    "6052314/CRKPBX9Q": {
     "abstract": "This article presents a historical review of the lobster and conch fisheries in Belize, Central America. In terms of yield and value, these are the main wild-caught targets of the national fisheries, a small-scale commercial fishery of around 3000 fishermen. Data were collected during interviews with key informants involved with the fisheries and through literature and archive research. The goal was to study how the fishing industry has responded to environmental signals from these resources and from their ecosystems and ecosystem dynamics. National yields for both lobster and conch have been relatively stable, however, individuals’ yields have been declining despite increased effort since the 1980s. This study concludes that the use of fossil fuel-based technology and organizational change, with the establishment of fishermen’s cooperatives, have masked environmental signals. This masking, together with economic incentives, has led to the “pathology of resource use.” As a symptom of this pathology, four forms of sequential exploitation in these fisheries were identified. A major conclusion is that social resilience may not confer ecological resilience. The development of the cooperatives was needed in order to improve equity in the industry. Before their impacts could be assessed, this organizational change, together with new technology, led to very important and rapid changes in the industry. Together with existing regulations that allow de facto open access to lobster and conch, these changes resulted in a short-term boom that has resulted in the pathology of resource use, with over-capitalization and dependence on maintained yields, regardless of environmental feedback.",
     "author": [
      {
       "family": "Huitric, M.",
       "given": ""
      }
     ],
     "container-title": "Resilience Alliance.",
     "id": "6052314/CRKPBX9Q",
     "issued": {
      "year": 2005
     },
     "title": "Lobster and Conch Fisheries of Belize: a History of Sequential Exploitation.",
     "type": "article-journal"
    },
    "6052314/FKW6GWN7": {
     "abstract": "Belize has one of the most extensive reef ecosystems in the Western Hemisphere, comprising one of the largest barrier reefs in the world, three atolls and a complex network of inshore reefs. Until recently, the main impacts were probably from natural events such as hurricanes. However, anthropogenic threats such as sedimentation, agrochemical run-off, coastal development, tourism and overfishing are now of concern. To limit these impacts, Belize is taking the approach of integrated coastal zone management. The programme is building on the existing legislative framework and involves the development of an appropriate institutional structure to co-ordinate management activities in the coastal zone. A Coastal Zone Management Plan is being prepared, which will include many measures that will directly benefit the reefs: a zoning scheme for the coastal zone, incorporating protected areas; legislation and policy guidelines; research and monitoring programmes; education and public awareness campaigns; measures for community participation; and a financial sustainability mechanism.",
     "author": [
      {
       "family": "Gibson, J., McField, M. and Wells, S.",
       "given": ""
      }
     ],
     "id": "6052314/FKW6GWN7",
     "issue": "3",
     "issued": {
      "year": 1998
     },
     "page": "229-244",
     "page-first": "229",
     "title": "Coral reef management in Belize: an approach through integrated coastal zone management.",
     "type": "article-journal",
     "volume": "39"
    },
    "6052314/FNAXNXHN": {
     "URL": "https://www.coastalzonebelize.org/wp-content/uploads/2015/08/BELIZE-Integrated-Coastal-Zone-Management-Plan.pdf",
     "author": [
      {
       "family": "CZMAI",
       "given": ""
      }
     ],
     "event-place": "Belize City",
     "id": "6052314/FNAXNXHN",
     "publisher": "Coastal Zone Management Authority and Institute",
     "publisher-place": "Belize City",
     "title": "Belize Integrated\nCoastal Zone Management Plan.",
     "type": "report"
    },
    "6052314/KU2JJDRD": {
     "URL": "http://apamobelize.org/wp-content/uploads/2015/06/Directory-of-Protected-Areas-2011.pdf",
     "abstract": "This Directory of Belize’s Protected Areas is based on the original Directory compiled by Simon Zisman\nand printed in 1996, and seeks to update the information available on the national protected areas\nmanaged under the National Protected Areas System – those legislated under the National Parks\nSystem Act, administered by the Forest Department, and those under the Fisheries Act, administered\nby the Belize Fisheries Department, as well as the eight nationally recognized private reserves.",
     "author": [
      {
       "family": "Walker Z.",
       "given": "Walker P."
      }
     ],
     "id": "6052314/KU2JJDRD",
     "issued": {
      "year": 2011
     },
     "title": "Directory of Belize’s Protected Areas",
     "type": "report"
    },
    "6052314/M4K98CT9": {
     "abstract": "Belize has one of the most extensive reef ecosystems in the Western Hemisphere, comprising one of the largest barrier reefs in the world, three atolls and a complex network of inshore reefs. Until recently, the main impacts were probably from natural events such as hurricanes. However, anthropogenic threats such as sedimentation, agrochemical run-off, coastal development, tourism and overfishing are now of concern. To limit these impacts, Belize is taking the approach of integrated coastal zone management. The programme is building on the existing legislative framework and involves the development of an appropriate institutional structure to co-ordinate management activities in the coastal zone. A Coastal Zone Management Plan is being prepared, which will include many measures that will directly benefit the reefs: a zoning scheme for the coastal zone, incorporating protected areas; legislation and policy guidelines; research and monitoring programmes; education and public awareness campaigns; measures for community participation; and a financial sustainability mechanism.",
     "author": [
      {
       "family": "Gibson, J.",
       "given": "McField, M."
      },
      {
       "family": "Wells, S.",
       "given": ""
      }
     ],
     "issue": "3",
     "issued": {
      "year": 1998
     },
     "page": "229-244",
     "page-first": "229",
     "title": "Coral reef management in Belize: an approach through integrated coastal zone management",
     "type": "article-journal",
     "volume": "39"
    },
    "6052314/TV5PPUA7": {
     "author": [
      {
       "family": "Seijo, J.",
       "given": ""
      }
     ],
     "id": "6052314/TV5PPUA7",
     "issue": "1",
     "issued": {
      "year": 2007
     },
     "page": "86-91",
     "page-first": "86",
     "title": "Considerations for management of metapopulations in small-scale fisheries of the Mesoamerican barrier reef ecosystem.",
     "type": "article-journal",
     "volume": "87"
    },
    "6052314/U7FZAAIX": {
     "author": [
      {
       "family": "Bryant, D., Burke , L., McManus, J. & Spalding, M.,",
       "given": ""
      }
     ],
     "container-title": "World Rescources Institute",
     "id": "6052314/U7FZAAIX",
     "title": "Reefs at risk: a map-based indicator of threats to the worlds coral reefs.",
     "type": "article-journal"
    }
   }
  },
  "kernelspec": {
   "display_name": "R",
   "language": "R",
   "name": "ir"
  },
  "toc": {
   "base_numbering": 1,
   "nav_menu": {
    "height": "292px",
    "width": "410px"
   },
   "number_sections": true,
   "sideBar": true,
   "skip_h1_title": false,
   "title_cell": "Table of Contents",
   "title_sidebar": "Contents",
   "toc_cell": false,
   "toc_position": {
    "height": "calc(100% - 180px)",
    "left": "10px",
    "top": "150px",
    "width": "384px"
   },
   "toc_section_display": true,
   "toc_window_display": true
  }
 },
 "nbformat": 4,
 "nbformat_minor": 2
}
